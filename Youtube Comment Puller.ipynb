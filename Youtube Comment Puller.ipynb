{
 "cells": [
  {
   "cell_type": "markdown",
   "metadata": {},
   "source": [
    "# Installation:\n",
    "\n",
    "Link: https://developers.google.com/youtube/v3/quickstart/python\n",
    "\n",
    "conda install -c conda-forge google-api-python-client \n",
    "\n",
    "conda install -c conda-forge google-auth-oauthlib google-auth-httplib2 \n",
    "\n",
    "Create a credential and get API key for Youtube API from:\n",
    "\n",
    "https://console.developers.google.com"
   ]
  },
  {
   "cell_type": "code",
   "execution_count": 1,
   "metadata": {},
   "outputs": [],
   "source": [
    "API_KEY = \"\" # provide your own API key here\n",
    "SERVICE = \"youtube\"\n",
    "VERSION = 'v3'"
   ]
  },
  {
   "cell_type": "code",
   "execution_count": 2,
   "metadata": {},
   "outputs": [],
   "source": [
    "from apiclient.discovery import build\n",
    "from datetime import datetime"
   ]
  },
  {
   "cell_type": "code",
   "execution_count": 3,
   "metadata": {},
   "outputs": [],
   "source": [
    "# starting interacting with youtube api\n",
    "youtube = build(SERVICE, VERSION, developerKey=API_KEY)\n"
   ]
  },
  {
   "cell_type": "code",
   "execution_count": 4,
   "metadata": {},
   "outputs": [
    {
     "data": {
      "text/plain": [
       "googleapiclient.discovery.Resource"
      ]
     },
     "execution_count": 4,
     "metadata": {},
     "output_type": "execute_result"
    }
   ],
   "source": [
    "type(youtube)"
   ]
  },
  {
   "cell_type": "markdown",
   "metadata": {},
   "source": [
    "### Simple HTTP request from to get information of videos from youtube"
   ]
  },
  {
   "cell_type": "code",
   "execution_count": 5,
   "metadata": {},
   "outputs": [],
   "source": [
    "req  = youtube.search().list(q='API', \n",
    "                             part='snippet', \n",
    "                             type='video', \n",
    "                             maxResults=50) #queries\n",
    "# req  = youtube.search().list(q='API', part='snippet', type='channel', maxResults=50)"
   ]
  },
  {
   "cell_type": "code",
   "execution_count": 6,
   "metadata": {},
   "outputs": [
    {
     "data": {
      "text/plain": [
       "googleapiclient.http.HttpRequest"
      ]
     },
     "execution_count": 6,
     "metadata": {},
     "output_type": "execute_result"
    }
   ],
   "source": [
    "type(req)"
   ]
  },
  {
   "cell_type": "code",
   "execution_count": 7,
   "metadata": {},
   "outputs": [],
   "source": [
    "# execute the request\n",
    "result = req.execute()"
   ]
  },
  {
   "cell_type": "code",
   "execution_count": 8,
   "metadata": {},
   "outputs": [
    {
     "name": "stdout",
     "output_type": "stream",
     "text": [
      "What is an API?\n",
      "APIs 101: What Exactly is an API? Part 1\n",
      "What is an API? (Application Programming Interface)\n",
      "REST API concepts and examples\n",
      "API for beginners\n",
      "What is API ?\n",
      "Was ist eine API (Application Programming Interface)?\n",
      "Using a Public API for Beginners\n",
      "REST API #1 APA ITU API ?\n",
      "J2 Acquisition&#39;s First Deal Is a $2.9 Billion Purchase of APi Group\n"
     ]
    }
   ],
   "source": [
    "# print first 10 results\n",
    "for item in result['items'][:10]:\n",
    "    print(item['snippet']['title'])"
   ]
  },
  {
   "cell_type": "markdown",
   "metadata": {},
   "source": [
    "### Get information of videos within period"
   ]
  },
  {
   "cell_type": "code",
   "execution_count": 9,
   "metadata": {},
   "outputs": [],
   "source": [
    "start_time=datetime(year=2019, month=1, day=1).strftime('%Y-%m-%dT%H:%M:%SZ')\n",
    "end_time=datetime(year=2019, month=9, day=3).strftime('%Y-%m-%dT%H:%M:%SZ')"
   ]
  },
  {
   "cell_type": "code",
   "execution_count": 10,
   "metadata": {},
   "outputs": [],
   "source": [
    "req  = youtube.search().list(q='API', \n",
    "                             part='snippet', \n",
    "                             type='video', \n",
    "                             publishedAfter=start_time,\n",
    "                             publishedBefore=end_time,\n",
    "                             maxResults=50) #q = queries"
   ]
  },
  {
   "cell_type": "code",
   "execution_count": 11,
   "metadata": {},
   "outputs": [
    {
     "name": "stdout",
     "output_type": "stream",
     "text": [
      "2019-01-10T05:44:40.000Z \u001b[1mvQJJ_K1JbEA\u001b[0;0m REST API #1 APA ITU API ?\n",
      "2019-01-24T00:04:24.000Z \u001b[1mijalD2NkRFg\u001b[0;0m API Security 101 by Sadako\n",
      "2019-01-27T10:08:13.000Z \u001b[1mG0D_zzGqRFY\u001b[0;0m Lagu, naik kereta api | upin ipin naik kereta api | bayi balita anak pintar\n",
      "2019-03-02T15:06:07.000Z \u001b[1m-HU_26gDeWg\u001b[0;0m Lagu Naik Kereta Api - Kereta Thomas Asli - Lagu Anak Indonesia Populer\n",
      "2019-03-17T13:33:05.000Z \u001b[1m_YlYuNMTCc8\u001b[0;0m What is an API and how do you design it?\n",
      "2019-04-29T15:14:06.000Z \u001b[1mlVOFV6xMYSM\u001b[0;0m New Naik Kereta Api Tut Tut Tut - Tom Kids\n",
      "2019-05-10T20:38:17.000Z \u001b[1mtdxKIPpPDAI\u001b[0;0m iOS Swift Tutorial: Use Web APIs and JSON Data with Swift 5\n",
      "2019-05-11T15:28:36.000Z \u001b[1mvjf774RKrLc\u001b[0;0m Build A Restful Api With Node.js Express &amp; MongoDB | Rest Api Tutorial\n",
      "2019-07-11T12:08:18.000Z \u001b[1mOG7RT2XRFFI\u001b[0;0m COMBO MEMATIKAN - SG API + AK API + BUNDLE WILDFIRE ! KOBARAN API SEMANGAT BOOYAH! FREE FIRE\n",
      "2019-08-30T14:00:01.000Z \u001b[1m0VQvnFcR-nE\u001b[0;0m LYON MI PORTA A VEDERE LE API DI MINECRAFT 1.15! 🐝\n"
     ]
    }
   ],
   "source": [
    "result = req.execute()\n",
    "bold = \"\\033[1m\" # for bold text effect\n",
    "reset = \"\\033[0;0m\" # for normal text effect\n",
    "\n",
    "# sort the result by published date, and print results with bold ID\n",
    "for item in sorted(result['items'][:10], key=lambda x:x['snippet']['publishedAt']):\n",
    "    print(item['snippet']['publishedAt'], bold+item['id']['videoId']+reset, item['snippet']['title'])"
   ]
  },
  {
   "cell_type": "markdown",
   "metadata": {},
   "source": [
    "### OAuth 2.0\n",
    "\n",
    "This Authentication Framework provides a flow to an application to which we can gain limited access to user's protected sources (Permission to like/comments/delete... etc anything private a one user). In other word, this allows ab application performs actions on one's behalf.\n",
    "\n",
    "#### Which permission to be used?\n",
    "\n",
    "Check: https://developers.google.com/identity/protocols/googlescopes to choose a suitable scope for the application"
   ]
  },
  {
   "cell_type": "code",
   "execution_count": 12,
   "metadata": {},
   "outputs": [],
   "source": [
    "import os\n",
    "import pickle\n",
    "import csv\n",
    "import google.oauth2.credentials\n",
    "from google.auth.transport.requests import Request\n",
    "from google_auth_oauthlib.flow import InstalledAppFlow"
   ]
  },
  {
   "cell_type": "code",
   "execution_count": 13,
   "metadata": {},
   "outputs": [],
   "source": [
    "CLIENT_SECRET_FILE = 'client_secret.json'\n",
    "SCOPES = ['https://www.googleapis.com/auth/youtube.force-ssl']"
   ]
  },
  {
   "cell_type": "code",
   "execution_count": 14,
   "metadata": {},
   "outputs": [],
   "source": [
    "# pick cached credentials (if any) to avoid re-authentication process\n",
    "credentials = None \n",
    "if os.path.exists('token.pickle'):\n",
    "        with open('token.pickle', 'rb') as token:\n",
    "            credentials = pickle.load(token)\n",
    "    #  Check if the credentials are invalid or do not exist\n",
    "if not credentials or not credentials.valid:\n",
    "    # Check if the credentials have expired\n",
    "    if credentials and credentials.expired and credentials.refresh_token:\n",
    "        credentials.refresh(Request())\n",
    "    else:\n",
    "        flow = InstalledAppFlow.from_client_secrets_file(CLIENT_SECRETS_FILE, SCOPES)\n",
    "        credentials = flow.run_console()\n",
    "\n",
    "    # Save the credentials for the next run\n",
    "    with open('token.pickle', 'wb') as token:\n",
    "        pickle.dump(credentials, token)\n",
    "            \n",
    "youtube = build(SERVICE, VERSION, credentials=credentials)"
   ]
  },
  {
   "cell_type": "code",
   "execution_count": 15,
   "metadata": {},
   "outputs": [],
   "source": [
    "# search videos by name\n",
    "req  = youtube.search().list(q='API', \n",
    "                             part='snippet', \n",
    "                             type='video', \n",
    "                             maxResults=1)"
   ]
  },
  {
   "cell_type": "code",
   "execution_count": 16,
   "metadata": {},
   "outputs": [],
   "source": [
    "result = req.execute()"
   ]
  },
  {
   "cell_type": "code",
   "execution_count": 18,
   "metadata": {},
   "outputs": [
    {
     "name": "stdout",
     "output_type": "stream",
     "text": [
      "2015-06-19T23:39:07.000Z \u001b[1ms7wmiS2mSXY\u001b[0;0m What is an API?\n"
     ]
    }
   ],
   "source": [
    "# print published date, videoID, and Title\n",
    "item = result['items'][0]\n",
    "print(item['snippet']['publishedAt'], bold+item['id']['videoId']+reset, item['snippet']['title'])"
   ]
  },
  {
   "cell_type": "code",
   "execution_count": 19,
   "metadata": {},
   "outputs": [],
   "source": [
    "# get first 100 comments thread (parrent comments) that have replies (child comments) from this videos\n",
    "req = youtube.commentThreads().list(videoId=item['id']['videoId'], \n",
    "                             part='snippet, replies', \n",
    "                             textFormat='plainText',\n",
    "                             maxResults=100)\n",
    "result = req.execute()"
   ]
  },
  {
   "cell_type": "code",
   "execution_count": 20,
   "metadata": {},
   "outputs": [
    {
     "name": "stdout",
     "output_type": "stream",
     "text": [
      "outstanding animations and your efforts \n",
      "\n",
      "Impressed with the way presented with an example. Thanks! \n",
      "\n",
      "連我這位外國人也解釋的聽得懂，厲害！ \n",
      "\n",
      "I have been working as a MuleSoft   Devloper for almost 2 years. I think there is a subtle difference of an API really does practically Vs theoretically . Ultimately the ones who works on it can really dig what it actually represents. Anyway don't confuse yourselves that API URLs we use will be returning Webpages , as they are URLs \n",
      "\n",
      "Perfect illustration of what an API is. \n",
      "\n"
     ]
    }
   ],
   "source": [
    "# print some comments\n",
    "for itemcm in sorted(result['items'][:5], key=lambda x:x['snippet']['topLevelComment']['snippet']['publishedAt']):\n",
    "    print('%s \\n' % itemcm['snippet']['topLevelComment']['snippet']['textDisplay'])"
   ]
  },
  {
   "cell_type": "markdown",
   "metadata": {},
   "source": [
    "## Get only comments which has the repilies\n",
    "Check all comments, and filter out any comments which has no replies. Save them to a \"comment.csv\" file.\n",
    "\n",
    "Since maximum comments can be retrieved per APE request is capped at 100. We need \"__nextPageToken__\" to retrive more than 100 comments.\n",
    "\n",
    "For every \"pageToken\", we can retrieve 100 comments at max. To retrieve more, simply add the Token for the next page, called __nextPageToken__ to the \"pageToken\" parameters of the API request methods."
   ]
  },
  {
   "cell_type": "code",
   "execution_count": 21,
   "metadata": {},
   "outputs": [],
   "source": [
    "comment_id = [];\n",
    "comments = [];\n",
    "replies = [];\n",
    "next_page_token = result['nextPageToken'] # get tokens to the next page or in this case the 101st comments onward\n",
    "with open('comments.csv', 'w') as comments_file:\n",
    "    while next_page_token:   \n",
    "        # find comment box that has replies and save its ID\n",
    "        for itemcm in result['items']:\n",
    "            if itemcm['snippet']['totalReplyCount']>0:\n",
    "    #             print(\"%s \\n\" % itemcm['id'] )\n",
    "\n",
    "    #             comment_id.append(itemcm['id'])\n",
    "    #             comments.append('   ')   \n",
    "    #             comments.append(itemcm['snippet']['topLevelComment']['snippet']['textDisplay'])     \n",
    "\n",
    "    #             for reply in itemcm['replies']['comments']:\n",
    "    #                 comments.append(('  ' + reply['snippet']['textDisplay']))\n",
    "\n",
    "                    # save everything to CSV files\n",
    "                    comments_writer = csv.writer(comments_file, delimiter=',', quotechar='\"', quoting=csv.QUOTE_MINIMAL)\n",
    "                    comment = itemcm['snippet']['topLevelComment']['snippet']['textDisplay']\n",
    "                    comments_writer.writerow(list(comment.encode(\"utf-8\"))) # needs to work on the encode a bit\n",
    "                    for reply in itemcm['replies']['comments']: \n",
    "                        rep = reply['snippet']['textDisplay']\n",
    "                        comments_writer.writerow(list(['R', rep.encode(\"utf-8\")]))\n",
    "\n",
    "\n",
    "        if 'nextPageToken' in result.keys(): \n",
    "            next_page_token = result['nextPageToken']  \n",
    "\n",
    "            # continue loading the next 100 comments (different tokens)       \n",
    "            req = youtube.commentThreads().list(videoId=item['id']['videoId'], \n",
    "                                 part='snippet, replies', \n",
    "                                 textFormat='plainText',\n",
    "                                 pageToken=next_page_token, # pass the nextPageToken here\n",
    "                                 maxResults=100)  \n",
    "            result = req.execute()   \n",
    "        else: \n",
    "            next_page_token = None # no more nextPageToken or no more comments to load"
   ]
  }
 ],
 "metadata": {
  "kernelspec": {
   "display_name": "Python [conda env:py36] *",
   "language": "python",
   "name": "conda-env-py36-py"
  },
  "language_info": {
   "codemirror_mode": {
    "name": "ipython",
    "version": 3
   },
   "file_extension": ".py",
   "mimetype": "text/x-python",
   "name": "python",
   "nbconvert_exporter": "python",
   "pygments_lexer": "ipython3",
   "version": "3.6.7"
  }
 },
 "nbformat": 4,
 "nbformat_minor": 2
}
